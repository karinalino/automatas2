{
 "cells": [
  {
   "cell_type": "markdown",
   "metadata": {},
   "source": [
    "<center>\n",
    "<h1>Procesos de Compilaciòn</h1>\n",
    "    <center/>\n",
    "    "
   ]
  },
  {
   "cell_type": "markdown",
   "metadata": {},
   "source": [
    "***\n",
    "En un compilador se pueden distinguir dos fases principales:\n",
    "***\n",
    "* Fase de análisis, en la cual se lee el programa fuente y se estudia la estructura y el significado del mismo.\n",
    "* Fase de síntesis, en la que se genera el programa objeto.comunes, junto la más con las de rutinas auxiliares Además, algunas   estructuras de datos importante es la tabla de símbolos, funcionesde gestiónde ésta y una serie para la detección deerrores.\n"
   ]
  },
  {
   "cell_type": "markdown",
   "metadata": {},
   "source": [
    "### Proceso de Compilación\n",
    "***\n",
    "![Con titulo](images/proceso1.png \"titulo\")"
   ]
  },
  {
   "cell_type": "markdown",
   "metadata": {},
   "source": [
    "### Fases de la Compilación\n",
    "***\n",
    "![Con titulo](images/proceso2.png \"titulo\")"
   ]
  },
  {
   "cell_type": "markdown",
   "metadata": {},
   "source": [
    "### Proceso de traducciòn \n",
    "***\n",
    "![Con titulo](images/proceso3.png \"titulo\")\n",
    "\n",
    "La entrada a este proceso es el programa fuente. Por lo general éste es un archivo que es\n",
    "creado por el usuario como un texto ASCII con o sin un formato específico aunque\n",
    "también puede ser el resultado de algún otro proceso."
   ]
  },
  {
   "cell_type": "markdown",
   "metadata": {},
   "source": [
    "### Fases de Compilación\n",
    "***\n",
    "* Análisis Léxico (scanner).- En esta fase, la cadena de caracteres que conforma al programa fuente es despojada de comentarios, espacios en blanco y otros elementos superfluos. Durante esta fase se identifican los elementos gramaticales usados en la creación del programa. Cada elemento identificado es substituido por un código numérico conocido comotoken.\n",
    "\n",
    "* Análisis Sintáctico (parser). El parser es el encargado de verificar que la secuencia y disposición de los tokens corresponda con la sintaxis del lenguaje. Este proceso de verificación sintáctica es conocido como parsing y es completamente guiado por la gramática del lenguaje."
   ]
  },
  {
   "cell_type": "markdown",
   "metadata": {},
   "source": [
    "### Fases de Compilación (2)\n",
    "***\n",
    "* Análisis Semántico y Generación de Código.- Una vez que la secuencia de tokens ha sido validada, ésta es utilizada para identificar el sentido de la acción a realizar y generar el correspondiente código en lenguaje máquina. Algunos compiladores recurren a la creación de código intermedio para posteriormente generar la secuencia de instrucciones máquina necesarias, mientras que algunos otros proceden a la generación directadel código máquina.\n",
    "* Optimización de Código.- Esta es otra etapa opcional. La optimización de código es una actividad que raya en un arte dominado solamente por un experimentado programador de ensamblador y conocedor de la arquitectura de la computadora. Existen algunas técnicas desarrolladas al respecto pero nada supera a la experiencia de un hábil programador. En esta etapa, ya sea posteriormente o trabajando al unísono con el generador de código, secuencias de instrucciones y estructuras de datos son examinadas buscando su sustitución con secuencias, instrucciones o estructuras más cortas, rápidas oeficientes."
   ]
  },
  {
   "cell_type": "markdown",
   "metadata": {},
   "source": [
    "### Fases de Compilación(3)\n",
    "***\n",
    "\n",
    "* Ligado (Linker).- Tanto los compiladores como los ensambladores a menudo dependen de un programa conocido como ligador, el cual recopila el código que se compila o ensambla por separado en diferentes archivos objetos, a un archivo que es directamente ejecutable. En este sentido, puede hacerse una distinción entre código objeto (código máquina que todavía no se ha ligado) y código de máquina ejecutable. Un ligador también conecta un programa objeto con el código de funciones de librerías estándar, así como con recursos suministrados por el sistema operativo de la computadora, tales como asignadores de memoria y dispositivos de entrada y salida. Es interesante advertir que los ligadores ahora realizan la tarea que originalmente era una de las principales actividades de un compilador (de aquí el uso de la palabra compilador: construir mediante la recopilación o compilación de fuentes diferentes)."
   ]
  },
  {
   "cell_type": "markdown",
   "metadata": {},
   "source": [
    "### Elementos: fase de compilación\n",
    "\n",
    "__Tabla deSímbolos__\n",
    "***\n",
    "Estructura tipo diccionario con operaciones de insertar, borrar y buscar, que almacena información sobre los símbolos que van apareciendo a lo largo del programa: los identificadores (variables y funciones), etiquetas, tipos definidos por el usuario (arrays, records,...). Almacena el tipo de dato, la aridad, método de paso de parámetros, tipo de retorno y de argumentos de una función, el ámbito de referencia de identificadores y la dirección dememoria.\n",
    "\n",
    "* Interacciona tanto con el analizador léxico, sintáctico y semántico que introducen informaciónconformese procesa la entrada.\n",
    "* La fase de generación de códigoy optimización también la usan."
   ]
  },
  {
   "cell_type": "markdown",
   "metadata": {},
   "source": [
    "### Elementos: fase de compilación(2)\n",
    "***\n",
    "Gestor deerrores detecta e informa de errores de cada fase que se produzcan durante el análisis. Debe generar mensajes significativos y reanudar la traducción. Encontramos errores:\n",
    "\n",
    "* Detectables en tiempo de compilación: errores léxicos (ortográficos), sintácticos (construcciones incorrectas) y semánticos (p. ej. uso de variables no declaradas, errores de tipo,etc).\n",
    "* Detectables en tiempo de ejecución: direccionamiento de vectores fuera de rango, divisiones por cero,etc.\n",
    "* De especificación/diseño: compilan correctamente pero no realizan lo que el programadordesea.\n",
    "\n",
    "Se trataran solo errores estáticos (en tiempo de compilación). Respecto a los errores en tiempo de ejecución, es necesario que el traductor genere código para la comprobación de errores específicos, su adecuado tratamiento y los mecanismos de tratamiento de excepciones para que el programa se continúe ejecutando."
   ]
  },
  {
   "cell_type": "markdown",
   "metadata": {},
   "source": [
    "### Elementos: fase de compilación(3)\n",
    "***\n",
    "___Número depasadas___\n",
    "Número de veces que hay que analizar el código fuente. Es función del grado de optimización.\n",
    "Típicamente: una pasada para realizar el análisis léxico y sintáctico, otra pasada para el análisis semántico y optimización dependiente del lenguaje fuente y una tercera pasada para generación de código y optimizaciones dependientes de la maquina.\n",
    "C, Pascal: admiten una pasada; Modula-2: dospasadas; Compiladores optimizadores: 5 o maspasadas.\n",
    "Programas que se compilan muchas veces y ejecutan pocas veces (entornos de enseñanza), poca optimización (una pasada)."
   ]
  },
  {
   "cell_type": "markdown",
   "metadata": {},
   "source": [
    "### Elementos: fase de compilación(3)\n",
    "***\n",
    "__Cargadores__\n",
    "\n",
    "Confrecuencia un compilador ,ensamblador oligador producirá un código que todavía no está completamente organizado y listo para ejecutarse, pero cuyas principales referencias de memoria se hacen relativas a una localidad de arranque indeterminada que puede estar en cualquier sitio de la memoria. Se dice que tal código es relocalizable y un cargador resolverá todas las direcciones relocalizables relativas a una dirección base, o de inicio dada.\n",
    "El uso de un cargador hace mas flexible el código ejecutable, pero el proceso de carga confrecuencia ocurreen segundo plano (comoparte del entorno operacional)o conjuntamente con el ligado.Rara vez un cargador es en realidad un programa por separado."
   ]
  }
 ],
 "metadata": {
  "kernelspec": {
   "display_name": "Python 3",
   "language": "python",
   "name": "python3"
  },
  "language_info": {
   "codemirror_mode": {
    "name": "ipython",
    "version": 3
   },
   "file_extension": ".py",
   "mimetype": "text/x-python",
   "name": "python",
   "nbconvert_exporter": "python",
   "pygments_lexer": "ipython3",
   "version": "3.7.3"
  }
 },
 "nbformat": 4,
 "nbformat_minor": 2
}
